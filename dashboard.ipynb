{
 "cells": [
  {
   "cell_type": "markdown",
   "metadata": {},
   "source": [
    "# San Francisco Rental Prices Dashboard\n",
    "\n",
    "In this notebook, you will compile the visualizations from the previous analysis into functions that can be used for a Panel dashboard."
   ]
  },
  {
   "cell_type": "code",
   "execution_count": 72,
   "metadata": {},
   "outputs": [],
   "source": [
    "# imports\n",
    "import panel as pn\n",
    "pn.extension('plotly')\n",
    "import plotly.express as px\n",
    "import pandas as pd\n",
    "import hvplot.pandas\n",
    "import matplotlib.pyplot as plt\n",
    "import os\n",
    "from pathlib import Path\n",
    "from dotenv import load_dotenv"
   ]
  },
  {
   "cell_type": "code",
   "execution_count": 73,
   "metadata": {},
   "outputs": [],
   "source": [
    "# Read the Mapbox API key\n",
    "load_dotenv()\n",
    "token = 'pk.eyJ1IjoiZmF6bGVoYW1lZW0iLCJhIjoiY2tneTdreWV4MGIyZTJ1bXNtd3E4dTNwZCJ9.V-zQBku8Dcjlk14FBqxPUg'\n",
    "px.set_mapbox_access_token(token)"
   ]
  },
  {
   "cell_type": "markdown",
   "metadata": {},
   "source": [
    "# Import Data"
   ]
  },
  {
   "cell_type": "code",
   "execution_count": 74,
   "metadata": {},
   "outputs": [],
   "source": [
    "# Import the CSVs to Pandas DataFrames\n",
    "file_path = Path(\"Data/sfo_neighborhoods_census_data.csv\")\n",
    "sfo_data = pd.read_csv(file_path, index_col=\"year\")\n",
    "\n",
    "file_path = Path(\"Data/neighborhoods_coordinates.csv\")\n",
    "df_neighborhood_locations = pd.read_csv(file_path)"
   ]
  },
  {
   "cell_type": "code",
   "execution_count": 75,
   "metadata": {},
   "outputs": [],
   "source": [
    "load_data = (sfo_data[[ \"housing_units\"]])"
   ]
  },
  {
   "cell_type": "markdown",
   "metadata": {},
   "source": [
    "- - -"
   ]
  },
  {
   "cell_type": "markdown",
   "metadata": {},
   "source": [
    "## Panel Visualizations\n",
    "\n",
    "In this section, you will copy the code for each plot type from your analysis notebook and place it into separate functions that Panel can use to create panes for the dashboard. \n",
    "\n",
    "These functions will convert the plot object to a Panel pane.\n",
    "\n",
    "Be sure to include any DataFrame transformation/manipulation code required along with the plotting code.\n",
    "\n",
    "Return a Panel pane object from each function that can be used to build the dashboard.\n",
    "\n",
    "Note: Remove any `.show()` lines from the code. We want to return the plots instead of showing them. The Panel dashboard will then display the plots."
   ]
  },
  {
   "cell_type": "code",
   "execution_count": 145,
   "metadata": {},
   "outputs": [],
   "source": [
    "# Define Panel Visualization Functions\n",
    "\n",
    "def housing_units_per_year():    \n",
    "    load_data = load_data.hvplot.scatter(x= \"year\", y=\"housing_units\").opts(yformatter=\"%.0f\")\n",
    "    return housing_units_per_year\n",
    "def average_gross_rent():\n",
    "    \"\"\"Average Gross Rent in San Francisco Per Year.\"\"\"\n",
    "    \n",
    "    load_data1 = load_data1(sfo_data[[\"gross_rent\"]]).groupby(\"year\").mean()\n",
    "    loaddata1 = load_data1.hvplot.scatter()\n",
    "    return loaddata1\n",
    "\n",
    "def average_sales_price():\n",
    "    \"\"\"Average Sales Price Per Year.\"\"\"\n",
    "    load_data2 = (sfo_data[[ \"sale_price_sqr_foot\"]]).groupby(\"year\").mean()\n",
    "    load_dd = load_data2.hvplot(x = 'year', y = 'sale_price_sqr_foot', label = 'Average Sale Price per Square Foot in San Francisco')\n",
    "    return load_dd\n",
    "\n",
    "def average_price_by_neighborhood():\n",
    "    \"\"\"Average Prices by Neighborhood.\"\"\"\n",
    "    load_data3 = sfo_data.groupby(['year', 'neighborhood']).mean()\n",
    "    load_datax = load_data3.hvplot(x = 'year', y = 'sale_price_sqr_foot', groupby ='neighborhood', kind='line') \n",
    "    return load_datax\n",
    "\n",
    "def top_most_expensive_neighborhoods():\n",
    "    \"\"\"Top 10 Most Expensive Neighborhoods.\"\"\" \n",
    "    load_data4 = sfo_data.groupby('neighborhood')['sale_price_sqr_foot', 'housing_units', 'gross_rent'].mean()\n",
    "    dd =load_data4.sort_values('sale_price_sqr_foot', ascending = False).head(10)\n",
    "    dd1 = dd.hvplot( x = 'neighborhood', y = 'sale_price_sqr_foot', label = 'Top 10 most expensive neighborhoods')\n",
    "    return dd1\n",
    "\n",
    "def parallel_coordinates():\n",
    "    \"\"\"Parallel Coordinates Plot.\"\"\"\n",
    "    parallel_dd = dd.reset_index()\n",
    "    px.parallel_coordinates(parallel_dd, color = 'sale_price_sqr_foot')\n",
    "    return px.parallel_coordinates(parallel_dd, color = 'sale_price_sqr_foot')\n",
    "\n",
    "def parallel_categories():\n",
    "    \"\"\"Parallel Categories Plot.\"\"\"\n",
    "    px.parallel_categories(parallel_dd, color_continuous_scale=px.colors.sequential.Inferno)  \n",
    "    return px.parallel_categories(parallel_dd, color_continuous_scale=px.colors.sequential.Inferno)\n",
    "\n",
    "def neighborhood_map():\n",
    "    \"\"\"Neighborhood Map\"\"\"\n",
    "    file_path = Path(\"Data/neighborhoods_coordinates.csv\")\n",
    "    df_neighborhood_locations = pd.read_csv(file_path)\n",
    "    dn =df_neighborhood_locations.rename(columns={'Neighborhood': 'neighborhood'}).groupby(\"neighborhood\").sum()\n",
    "    dn =df_neighborhood_locations.rename(columns={'Neighborhood': 'neighborhood'}).groupby(\"neighborhood\").sum()\n",
    "    ds = (sfo_data[[ \"sale_price_sqr_foot\", \"gross_rent\", \"housing_units\", \"neighborhood\"]]).groupby(\"neighborhood\").mean()  \n",
    "    d1 = ds.join(dn)\n",
    "    map_plot = px.scatter_mapbox(d1, color =\"gross_rent\",lat = \"Lat\", lon = \"Lon\", size = \"sale_price_sqr_foot\", zoom=4)\n",
    "    return map_plot"
   ]
  },
  {
   "cell_type": "markdown",
   "metadata": {},
   "source": [
    "## Panel Dashboard\n",
    "\n",
    "In this section, you will combine all of the plots into a single dashboard view using Panel. Be creative with your dashboard design!"
   ]
  },
  {
   "cell_type": "code",
   "execution_count": 146,
   "metadata": {},
   "outputs": [
    {
     "data": {
      "application/vnd.holoviews_exec.v0+json": "",
      "text/html": [
       "<div id='7132'>\n",
       "\n",
       "\n",
       "\n",
       "\n",
       "\n",
       "  <div class=\"bk-root\" id=\"2305c611-b588-4422-bff2-f14e0eb4ec71\" data-root-id=\"7132\"></div>\n",
       "</div>\n",
       "<script type=\"application/javascript\">(function(root) {\n",
       "  function embed_document(root) {\n",
       "  var docs_json = {\"83a512ae-dea3-450e-afad-0de05e1da683\":{\"roots\":{\"references\":[{\"attributes\":{},\"id\":\"7221\",\"type\":\"SaveTool\"},{\"attributes\":{},\"id\":\"7179\",\"type\":\"BasicTickFormatter\"},{\"attributes\":{},\"id\":\"7222\",\"type\":\"PanTool\"},{\"attributes\":{\"child\":{\"id\":\"7133\"},\"name\":\"Column10096\",\"title\":\"Correlations\"},\"id\":\"7262\",\"type\":\"Panel\"},{\"attributes\":{\"align\":null,\"below\":[{\"id\":\"7150\"}],\"center\":[{\"id\":\"7153\"},{\"id\":\"7157\"}],\"left\":[{\"id\":\"7154\"}],\"margin\":null,\"min_border_bottom\":10,\"min_border_left\":10,\"min_border_right\":10,\"min_border_top\":10,\"plot_height\":300,\"plot_width\":700,\"renderers\":[{\"id\":\"7177\"}],\"sizing_mode\":\"fixed\",\"title\":{\"id\":\"7142\"},\"toolbar\":{\"id\":\"7164\"},\"x_range\":{\"id\":\"7138\"},\"x_scale\":{\"id\":\"7146\"},\"y_range\":{\"id\":\"7139\"},\"y_scale\":{\"id\":\"7148\"}},\"id\":\"7141\",\"subtype\":\"Figure\",\"type\":\"Plot\"},{\"attributes\":{\"overlay\":{\"id\":\"7226\"}},\"id\":\"7224\",\"type\":\"BoxZoomTool\"},{\"attributes\":{\"text\":\"Average Sale Price per Square Foot in San Francisco\",\"text_color\":{\"value\":\"black\"},\"text_font_size\":{\"value\":\"12pt\"}},\"id\":\"7142\",\"type\":\"Title\"},{\"attributes\":{\"axis\":{\"id\":\"7217\"},\"dimension\":1,\"grid_line_color\":null,\"ticker\":null},\"id\":\"7220\",\"type\":\"Grid\"},{\"attributes\":{},\"id\":\"7223\",\"type\":\"WheelZoomTool\"},{\"attributes\":{},\"id\":\"7218\",\"type\":\"BasicTicker\"},{\"attributes\":{\"children\":[{\"id\":\"7200\"},{\"id\":\"7201\"}],\"margin\":[0,0,0,0],\"name\":\"Column10013\"},\"id\":\"7199\",\"type\":\"Column\"},{\"attributes\":{\"active_drag\":\"auto\",\"active_inspect\":\"auto\",\"active_multi\":null,\"active_scroll\":\"auto\",\"active_tap\":\"auto\",\"tools\":[{\"id\":\"7140\"},{\"id\":\"7158\"},{\"id\":\"7159\"},{\"id\":\"7160\"},{\"id\":\"7161\"},{\"id\":\"7162\"}]},\"id\":\"7164\",\"type\":\"Toolbar\"},{\"attributes\":{},\"id\":\"7210\",\"type\":\"CategoricalScale\"},{\"attributes\":{},\"id\":\"7235\",\"type\":\"Selection\"},{\"attributes\":{\"axis_label\":\"sale_price_sqr_foot\",\"bounds\":\"auto\",\"formatter\":{\"id\":\"7181\"},\"major_label_orientation\":\"horizontal\",\"ticker\":{\"id\":\"7155\"}},\"id\":\"7154\",\"type\":\"LinearAxis\"},{\"attributes\":{},\"id\":\"7160\",\"type\":\"WheelZoomTool\"},{\"attributes\":{\"data_source\":{\"id\":\"7234\"},\"glyph\":{\"id\":\"7237\"},\"hover_glyph\":null,\"muted_glyph\":{\"id\":\"7239\"},\"nonselection_glyph\":{\"id\":\"7238\"},\"selection_glyph\":null,\"view\":{\"id\":\"7241\"}},\"id\":\"7240\",\"type\":\"GlyphRenderer\"},{\"attributes\":{\"overlay\":{\"id\":\"7163\"}},\"id\":\"7161\",\"type\":\"BoxZoomTool\"},{\"attributes\":{},\"id\":\"7244\",\"type\":\"BasicTickFormatter\"},{\"attributes\":{\"align\":null,\"below\":[{\"id\":\"7214\"}],\"center\":[{\"id\":\"7216\"},{\"id\":\"7220\"}],\"left\":[{\"id\":\"7217\"}],\"margin\":null,\"min_border_bottom\":10,\"min_border_left\":10,\"min_border_right\":10,\"min_border_top\":10,\"plot_height\":300,\"plot_width\":700,\"renderers\":[{\"id\":\"7240\"}],\"sizing_mode\":\"fixed\",\"title\":{\"id\":\"7206\"},\"toolbar\":{\"id\":\"7227\"},\"x_range\":{\"id\":\"7202\"},\"x_scale\":{\"id\":\"7210\"},\"y_range\":{\"id\":\"7139\"},\"y_scale\":{\"id\":\"7212\"}},\"id\":\"7205\",\"subtype\":\"Figure\",\"type\":\"Plot\"},{\"attributes\":{\"css_classes\":[\"markdown\"],\"margin\":[5,5,5,5],\"name\":\"Markdown09928\",\"text\":\"&lt;h2&gt;Correlation of the Top 10 most expensive neighborhoods and Average prices by Neighborhood&lt;/h2&gt;\"},\"id\":\"7134\",\"type\":\"panel.models.markup.HTML\"},{\"attributes\":{},\"id\":\"7159\",\"type\":\"PanTool\"},{\"attributes\":{},\"id\":\"7162\",\"type\":\"ResetTool\"},{\"attributes\":{},\"id\":\"7181\",\"type\":\"BasicTickFormatter\"},{\"attributes\":{\"client_comm_id\":\"ec310dd60a0a4e25b934ff69849ece4b\",\"comm_id\":\"fbfb622a2ddb4b98b8c06ab4f19dc6a3\",\"plot_id\":\"7132\"},\"id\":\"7311\",\"type\":\"panel.models.comm_manager.CommManager\"},{\"attributes\":{\"margin\":[0,0,0,0],\"tabs\":[{\"id\":\"7262\"}]},\"id\":\"7132\",\"type\":\"Tabs\"},{\"attributes\":{},\"id\":\"7242\",\"type\":\"CategoricalTickFormatter\"},{\"attributes\":{},\"id\":\"7215\",\"type\":\"CategoricalTicker\"},{\"attributes\":{},\"id\":\"7172\",\"type\":\"Selection\"},{\"attributes\":{},\"id\":\"7158\",\"type\":\"SaveTool\"},{\"attributes\":{},\"id\":\"7190\",\"type\":\"UnionRenderers\"},{\"attributes\":{\"text\":\"Top 10 most expensive neighborhoods\",\"text_color\":{\"value\":\"black\"},\"text_font_size\":{\"value\":\"12pt\"}},\"id\":\"7206\",\"type\":\"Title\"},{\"attributes\":{},\"id\":\"7212\",\"type\":\"LinearScale\"},{\"attributes\":{},\"id\":\"7225\",\"type\":\"ResetTool\"},{\"attributes\":{},\"id\":\"7253\",\"type\":\"UnionRenderers\"},{\"attributes\":{\"children\":[{\"id\":\"7136\"},{\"id\":\"7137\"}],\"margin\":[0,0,0,0],\"name\":\"Column09931\"},\"id\":\"7135\",\"type\":\"Column\"},{\"attributes\":{\"children\":[{\"id\":\"7134\"},{\"id\":\"7135\"},{\"id\":\"7199\"}],\"margin\":[0,0,0,0],\"name\":\"Column10096\"},\"id\":\"7133\",\"type\":\"Column\"},{\"attributes\":{\"children\":[{\"id\":\"7205\"}],\"margin\":[0,0,0,0],\"name\":\"Row10094\"},\"id\":\"7201\",\"type\":\"Row\"},{\"attributes\":{},\"id\":\"7148\",\"type\":\"LinearScale\"},{\"attributes\":{\"margin\":[0,0,0,0],\"name\":\"Column10011\"},\"id\":\"7136\",\"type\":\"Column\"},{\"attributes\":{\"data\":{\"neighborhood\":[\"Union Square District\",\"Merced Heights\",\"Miraloma Park\",\"Pacific Heights\",\"Westwood Park\",\"Telegraph Hill\",\"Presidio Heights\",\"Cow Hollow\",\"Potrero Hill\",\"South Beach\"],\"sale_price_sqr_foot\":{\"__ndarray__\":\"JRAUMfI/jEB9IrkvwqaIQFx/3pp8XohAFpsVUHKMhUBs0ERas3iFQL0KhXgNJIVAy835O80ahUANV25bts+EQJrMCuEbsIRAya3y7v5QhEA=\",\"dtype\":\"float64\",\"order\":\"little\",\"shape\":[10]}},\"selected\":{\"id\":\"7235\"},\"selection_policy\":{\"id\":\"7253\"}},\"id\":\"7234\",\"type\":\"ColumnDataSource\"},{\"attributes\":{\"factors\":[\"Union Square District\",\"Merced Heights\",\"Miraloma Park\",\"Pacific Heights\",\"Westwood Park\",\"Telegraph Hill\",\"Presidio Heights\",\"Cow Hollow\",\"Potrero Hill\",\"South Beach\"],\"tags\":[[[\"neighborhood\",\"neighborhood\",null]]]},\"id\":\"7202\",\"type\":\"FactorRange\"},{\"attributes\":{\"callback\":null,\"renderers\":[{\"id\":\"7177\"}],\"tags\":[\"hv_created\"],\"tooltips\":[[\"year\",\"@{year}\"],[\"sale_price_sqr_foot\",\"@{sale_price_sqr_foot}\"]]},\"id\":\"7140\",\"type\":\"HoverTool\"},{\"attributes\":{\"line_color\":\"#1f77b3\",\"line_width\":2,\"x\":{\"field\":\"year\"},\"y\":{\"field\":\"sale_price_sqr_foot\"}},\"id\":\"7174\",\"type\":\"Line\"},{\"attributes\":{\"children\":[{\"id\":\"7141\"}],\"margin\":[0,0,0,0],\"name\":\"Row10010\"},\"id\":\"7137\",\"type\":\"Row\"},{\"attributes\":{\"active_drag\":\"auto\",\"active_inspect\":\"auto\",\"active_multi\":null,\"active_scroll\":\"auto\",\"active_tap\":\"auto\",\"tools\":[{\"id\":\"7204\"},{\"id\":\"7221\"},{\"id\":\"7222\"},{\"id\":\"7223\"},{\"id\":\"7224\"},{\"id\":\"7225\"}]},\"id\":\"7227\",\"type\":\"Toolbar\"},{\"attributes\":{\"source\":{\"id\":\"7171\"}},\"id\":\"7178\",\"type\":\"CDSView\"},{\"attributes\":{},\"id\":\"7146\",\"type\":\"LinearScale\"},{\"attributes\":{\"axis\":{\"id\":\"7214\"},\"grid_line_color\":null,\"ticker\":null},\"id\":\"7216\",\"type\":\"Grid\"},{\"attributes\":{\"line_alpha\":0.2,\"line_color\":\"#1f77b3\",\"line_width\":2,\"x\":{\"field\":\"year\"},\"y\":{\"field\":\"sale_price_sqr_foot\"}},\"id\":\"7176\",\"type\":\"Line\"},{\"attributes\":{\"bottom_units\":\"screen\",\"fill_alpha\":0.5,\"fill_color\":\"lightgrey\",\"left_units\":\"screen\",\"level\":\"overlay\",\"line_alpha\":1.0,\"line_color\":\"black\",\"line_dash\":[4,4],\"line_width\":2,\"right_units\":\"screen\",\"top_units\":\"screen\"},\"id\":\"7226\",\"type\":\"BoxAnnotation\"},{\"attributes\":{\"line_alpha\":0.1,\"line_color\":\"#1f77b3\",\"line_width\":2,\"x\":{\"field\":\"year\"},\"y\":{\"field\":\"sale_price_sqr_foot\"}},\"id\":\"7175\",\"type\":\"Line\"},{\"attributes\":{\"source\":{\"id\":\"7234\"}},\"id\":\"7241\",\"type\":\"CDSView\"},{\"attributes\":{\"axis_label\":\"sale_price_sqr_foot\",\"bounds\":\"auto\",\"formatter\":{\"id\":\"7244\"},\"major_label_orientation\":\"horizontal\",\"ticker\":{\"id\":\"7218\"}},\"id\":\"7217\",\"type\":\"LinearAxis\"},{\"attributes\":{\"end\":733.2177371101802,\"reset_end\":733.2177371101802,\"reset_start\":306.3294011864627,\"start\":306.3294011864627,\"tags\":[[[\"sale_price_sqr_foot\",\"sale_price_sqr_foot\",null]]]},\"id\":\"7139\",\"type\":\"Range1d\"},{\"attributes\":{\"axis_label\":\"neighborhood\",\"bounds\":\"auto\",\"formatter\":{\"id\":\"7242\"},\"major_label_orientation\":\"horizontal\",\"ticker\":{\"id\":\"7215\"}},\"id\":\"7214\",\"type\":\"CategoricalAxis\"},{\"attributes\":{\"data\":{\"sale_price_sqr_foot\":{\"__ndarray__\":\"tQKjeIIVd0Do7CdydF51QGdijk899nhAaBKk2Jo5fkDGKCTbN2KBQPETFqRSxINAUB33UCbNhUA=\",\"dtype\":\"float64\",\"order\":\"little\",\"shape\":[7]},\"year\":[2010,2011,2012,2013,2014,2015,2016]},\"selected\":{\"id\":\"7172\"},\"selection_policy\":{\"id\":\"7190\"}},\"id\":\"7171\",\"type\":\"ColumnDataSource\"},{\"attributes\":{\"margin\":[0,0,0,0],\"name\":\"Column10095\"},\"id\":\"7200\",\"type\":\"Column\"},{\"attributes\":{\"axis_label\":\"year\",\"bounds\":\"auto\",\"formatter\":{\"id\":\"7179\"},\"major_label_orientation\":\"horizontal\",\"ticker\":{\"id\":\"7151\"}},\"id\":\"7150\",\"type\":\"LinearAxis\"},{\"attributes\":{\"end\":2016.0,\"reset_end\":2016.0,\"reset_start\":2010.0,\"start\":2010.0,\"tags\":[[[\"year\",\"year\",null]]]},\"id\":\"7138\",\"type\":\"Range1d\"},{\"attributes\":{\"axis\":{\"id\":\"7154\"},\"dimension\":1,\"grid_line_color\":null,\"ticker\":null},\"id\":\"7157\",\"type\":\"Grid\"},{\"attributes\":{},\"id\":\"7155\",\"type\":\"BasicTicker\"},{\"attributes\":{\"callback\":null,\"renderers\":[{\"id\":\"7240\"}],\"tags\":[\"hv_created\"],\"tooltips\":[[\"neighborhood\",\"@{neighborhood}\"],[\"sale_price_sqr_foot\",\"@{sale_price_sqr_foot}\"]]},\"id\":\"7204\",\"type\":\"HoverTool\"},{\"attributes\":{\"line_alpha\":0.1,\"line_color\":\"#1f77b3\",\"line_width\":2,\"x\":{\"field\":\"neighborhood\"},\"y\":{\"field\":\"sale_price_sqr_foot\"}},\"id\":\"7238\",\"type\":\"Line\"},{\"attributes\":{\"data_source\":{\"id\":\"7171\"},\"glyph\":{\"id\":\"7174\"},\"hover_glyph\":null,\"muted_glyph\":{\"id\":\"7176\"},\"nonselection_glyph\":{\"id\":\"7175\"},\"selection_glyph\":null,\"view\":{\"id\":\"7178\"}},\"id\":\"7177\",\"type\":\"GlyphRenderer\"},{\"attributes\":{\"axis\":{\"id\":\"7150\"},\"grid_line_color\":null,\"ticker\":null},\"id\":\"7153\",\"type\":\"Grid\"},{\"attributes\":{\"line_alpha\":0.2,\"line_color\":\"#1f77b3\",\"line_width\":2,\"x\":{\"field\":\"neighborhood\"},\"y\":{\"field\":\"sale_price_sqr_foot\"}},\"id\":\"7239\",\"type\":\"Line\"},{\"attributes\":{\"bottom_units\":\"screen\",\"fill_alpha\":0.5,\"fill_color\":\"lightgrey\",\"left_units\":\"screen\",\"level\":\"overlay\",\"line_alpha\":1.0,\"line_color\":\"black\",\"line_dash\":[4,4],\"line_width\":2,\"right_units\":\"screen\",\"top_units\":\"screen\"},\"id\":\"7163\",\"type\":\"BoxAnnotation\"},{\"attributes\":{},\"id\":\"7151\",\"type\":\"BasicTicker\"},{\"attributes\":{\"line_color\":\"#1f77b3\",\"line_width\":2,\"x\":{\"field\":\"neighborhood\"},\"y\":{\"field\":\"sale_price_sqr_foot\"}},\"id\":\"7237\",\"type\":\"Line\"}],\"root_ids\":[\"7132\",\"7311\"]},\"title\":\"Bokeh Application\",\"version\":\"2.1.1\"}};\n",
       "  var render_items = [{\"docid\":\"83a512ae-dea3-450e-afad-0de05e1da683\",\"root_ids\":[\"7132\"],\"roots\":{\"7132\":\"2305c611-b588-4422-bff2-f14e0eb4ec71\"}}];\n",
       "  root.Bokeh.embed.embed_items_notebook(docs_json, render_items);\n",
       "  }\n",
       "if (root.Bokeh !== undefined) {\n",
       "    embed_document(root);\n",
       "  } else {\n",
       "    var attempts = 0;\n",
       "    var timer = setInterval(function(root) {\n",
       "      if (root.Bokeh !== undefined) {\n",
       "        clearInterval(timer);\n",
       "        embed_document(root);\n",
       "      } else if (document.readyState == \"complete\") {\n",
       "        attempts++;\n",
       "        if (attempts > 100) {\n",
       "          clearInterval(timer);\n",
       "          console.log(\"Bokeh: ERROR: Unable to run BokehJS code because BokehJS library is missing\");\n",
       "        }\n",
       "      }\n",
       "    }, 10, root)\n",
       "  }\n",
       "})(window);</script>"
      ],
      "text/plain": [
       "Tabs\n",
       "    [0] Column\n",
       "        [0] Markdown(str)\n",
       "        [1] Column\n",
       "            [0] Column()\n",
       "            [1] Row\n",
       "                [0] HoloViews(Curve, name='interactive09930')\n",
       "        [2] Column\n",
       "            [0] Column()\n",
       "            [1] Row\n",
       "                [0] HoloViews(Curve, name='interactive10012')"
      ]
     },
     "execution_count": 146,
     "metadata": {
      "application/vnd.holoviews_exec.v0+json": {
       "id": "7132"
      }
     },
     "output_type": "execute_result"
    }
   ],
   "source": [
    "\n",
    "scatter_column = pn.Column(\n",
    "    \"## Correlation of the Top 10 most expensive neighborhoods and Average prices by Neighborhood\", average_sales_price, top_most_expensive_neighborhoods)\n",
    "# Create tabs\n",
    "pop_dashboard = pn.Tabs(\n",
    "     (\"Correlations\", scatter_column)\n",
    ")\n",
    "pop_dashboard"
   ]
  },
  {
   "cell_type": "markdown",
   "metadata": {},
   "source": [
    "## Serve the Panel Dashboard"
   ]
  },
  {
   "cell_type": "code",
   "execution_count": 147,
   "metadata": {},
   "outputs": [
    {
     "data": {
      "application/vnd.holoviews_exec.v0+json": "",
      "text/html": [
       "<div id='7392'>\n",
       "\n",
       "\n",
       "\n",
       "\n",
       "\n",
       "  <div class=\"bk-root\" id=\"e2bcf241-33ea-4d60-9fcd-366ad083d2fb\" data-root-id=\"7392\"></div>\n",
       "</div>\n",
       "<script type=\"application/javascript\">(function(root) {\n",
       "  function embed_document(root) {\n",
       "  var docs_json = {\"516e651e-4346-490a-ad62-fd8e65c51301\":{\"roots\":{\"references\":[{\"attributes\":{},\"id\":\"7504\",\"type\":\"BasicTickFormatter\"},{\"attributes\":{\"children\":[{\"id\":\"7396\"},{\"id\":\"7397\"}],\"margin\":[0,0,0,0],\"name\":\"Column09931\"},\"id\":\"7395\",\"type\":\"Column\"},{\"attributes\":{},\"id\":\"7475\",\"type\":\"CategoricalTicker\"},{\"attributes\":{\"margin\":[0,0,0,0],\"name\":\"Column10011\"},\"id\":\"7396\",\"type\":\"Column\"},{\"attributes\":{\"axis_label\":\"sale_price_sqr_foot\",\"bounds\":\"auto\",\"formatter\":{\"id\":\"7504\"},\"major_label_orientation\":\"horizontal\",\"ticker\":{\"id\":\"7478\"}},\"id\":\"7477\",\"type\":\"LinearAxis\"},{\"attributes\":{\"align\":null,\"below\":[{\"id\":\"7410\"}],\"center\":[{\"id\":\"7413\"},{\"id\":\"7417\"}],\"left\":[{\"id\":\"7414\"}],\"margin\":null,\"min_border_bottom\":10,\"min_border_left\":10,\"min_border_right\":10,\"min_border_top\":10,\"plot_height\":300,\"plot_width\":700,\"renderers\":[{\"id\":\"7437\"}],\"sizing_mode\":\"fixed\",\"title\":{\"id\":\"7402\"},\"toolbar\":{\"id\":\"7424\"},\"x_range\":{\"id\":\"7398\"},\"x_scale\":{\"id\":\"7406\"},\"y_range\":{\"id\":\"7399\"},\"y_scale\":{\"id\":\"7408\"}},\"id\":\"7401\",\"subtype\":\"Figure\",\"type\":\"Plot\"},{\"attributes\":{\"axis\":{\"id\":\"7477\"},\"dimension\":1,\"grid_line_color\":null,\"ticker\":null},\"id\":\"7480\",\"type\":\"Grid\"},{\"attributes\":{\"line_alpha\":0.2,\"line_color\":\"#1f77b3\",\"line_width\":2,\"x\":{\"field\":\"year\"},\"y\":{\"field\":\"sale_price_sqr_foot\"}},\"id\":\"7436\",\"type\":\"Line\"},{\"attributes\":{\"data_source\":{\"id\":\"7431\"},\"glyph\":{\"id\":\"7434\"},\"hover_glyph\":null,\"muted_glyph\":{\"id\":\"7436\"},\"nonselection_glyph\":{\"id\":\"7435\"},\"selection_glyph\":null,\"view\":{\"id\":\"7438\"}},\"id\":\"7437\",\"type\":\"GlyphRenderer\"},{\"attributes\":{\"overlay\":{\"id\":\"7423\"}},\"id\":\"7421\",\"type\":\"BoxZoomTool\"},{\"attributes\":{\"text\":\"Average Sale Price per Square Foot in San Francisco\",\"text_color\":{\"value\":\"black\"},\"text_font_size\":{\"value\":\"12pt\"}},\"id\":\"7402\",\"type\":\"Title\"},{\"attributes\":{},\"id\":\"7478\",\"type\":\"BasicTicker\"},{\"attributes\":{},\"id\":\"7406\",\"type\":\"LinearScale\"},{\"attributes\":{\"axis\":{\"id\":\"7474\"},\"grid_line_color\":null,\"ticker\":null},\"id\":\"7476\",\"type\":\"Grid\"},{\"attributes\":{\"text\":\"Top 10 most expensive neighborhoods\",\"text_color\":{\"value\":\"black\"},\"text_font_size\":{\"value\":\"12pt\"}},\"id\":\"7466\",\"type\":\"Title\"},{\"attributes\":{},\"id\":\"7408\",\"type\":\"LinearScale\"},{\"attributes\":{},\"id\":\"7472\",\"type\":\"LinearScale\"},{\"attributes\":{\"axis_label\":\"year\",\"bounds\":\"auto\",\"formatter\":{\"id\":\"7439\"},\"major_label_orientation\":\"horizontal\",\"ticker\":{\"id\":\"7411\"}},\"id\":\"7410\",\"type\":\"LinearAxis\"},{\"attributes\":{\"factors\":[\"Union Square District\",\"Merced Heights\",\"Miraloma Park\",\"Pacific Heights\",\"Westwood Park\",\"Telegraph Hill\",\"Presidio Heights\",\"Cow Hollow\",\"Potrero Hill\",\"South Beach\"],\"tags\":[[[\"neighborhood\",\"neighborhood\",null]]]},\"id\":\"7462\",\"type\":\"FactorRange\"},{\"attributes\":{\"axis_label\":\"neighborhood\",\"bounds\":\"auto\",\"formatter\":{\"id\":\"7502\"},\"major_label_orientation\":\"horizontal\",\"ticker\":{\"id\":\"7475\"}},\"id\":\"7474\",\"type\":\"CategoricalAxis\"},{\"attributes\":{\"data\":{\"sale_price_sqr_foot\":{\"__ndarray__\":\"tQKjeIIVd0Do7CdydF51QGdijk899nhAaBKk2Jo5fkDGKCTbN2KBQPETFqRSxINAUB33UCbNhUA=\",\"dtype\":\"float64\",\"order\":\"little\",\"shape\":[7]},\"year\":[2010,2011,2012,2013,2014,2015,2016]},\"selected\":{\"id\":\"7432\"},\"selection_policy\":{\"id\":\"7450\"}},\"id\":\"7431\",\"type\":\"ColumnDataSource\"},{\"attributes\":{\"children\":[{\"id\":\"7460\"},{\"id\":\"7461\"}],\"margin\":[0,0,0,0],\"name\":\"Column10013\"},\"id\":\"7459\",\"type\":\"Column\"},{\"attributes\":{\"axis\":{\"id\":\"7414\"},\"dimension\":1,\"grid_line_color\":null,\"ticker\":null},\"id\":\"7417\",\"type\":\"Grid\"},{\"attributes\":{\"line_alpha\":0.1,\"line_color\":\"#1f77b3\",\"line_width\":2,\"x\":{\"field\":\"year\"},\"y\":{\"field\":\"sale_price_sqr_foot\"}},\"id\":\"7435\",\"type\":\"Line\"},{\"attributes\":{\"line_color\":\"#1f77b3\",\"line_width\":2,\"x\":{\"field\":\"neighborhood\"},\"y\":{\"field\":\"sale_price_sqr_foot\"}},\"id\":\"7497\",\"type\":\"Line\"},{\"attributes\":{\"axis_label\":\"sale_price_sqr_foot\",\"bounds\":\"auto\",\"formatter\":{\"id\":\"7441\"},\"major_label_orientation\":\"horizontal\",\"ticker\":{\"id\":\"7415\"}},\"id\":\"7414\",\"type\":\"LinearAxis\"},{\"attributes\":{},\"id\":\"7470\",\"type\":\"CategoricalScale\"},{\"attributes\":{},\"id\":\"7513\",\"type\":\"UnionRenderers\"},{\"attributes\":{\"data_source\":{\"id\":\"7494\"},\"glyph\":{\"id\":\"7497\"},\"hover_glyph\":null,\"muted_glyph\":{\"id\":\"7499\"},\"nonselection_glyph\":{\"id\":\"7498\"},\"selection_glyph\":null,\"view\":{\"id\":\"7501\"}},\"id\":\"7500\",\"type\":\"GlyphRenderer\"},{\"attributes\":{\"line_alpha\":0.1,\"line_color\":\"#1f77b3\",\"line_width\":2,\"x\":{\"field\":\"neighborhood\"},\"y\":{\"field\":\"sale_price_sqr_foot\"}},\"id\":\"7498\",\"type\":\"Line\"},{\"attributes\":{},\"id\":\"7411\",\"type\":\"BasicTicker\"},{\"attributes\":{\"css_classes\":[\"markdown\"],\"margin\":[5,5,5,5],\"name\":\"Markdown09928\",\"text\":\"&lt;h2&gt;Correlation of the Top 10 most expensive neighborhoods and Average prices by Neighborhood&lt;/h2&gt;\"},\"id\":\"7394\",\"type\":\"panel.models.markup.HTML\"},{\"attributes\":{\"align\":null,\"below\":[{\"id\":\"7474\"}],\"center\":[{\"id\":\"7476\"},{\"id\":\"7480\"}],\"left\":[{\"id\":\"7477\"}],\"margin\":null,\"min_border_bottom\":10,\"min_border_left\":10,\"min_border_right\":10,\"min_border_top\":10,\"plot_height\":300,\"plot_width\":700,\"renderers\":[{\"id\":\"7500\"}],\"sizing_mode\":\"fixed\",\"title\":{\"id\":\"7466\"},\"toolbar\":{\"id\":\"7487\"},\"x_range\":{\"id\":\"7462\"},\"x_scale\":{\"id\":\"7470\"},\"y_range\":{\"id\":\"7399\"},\"y_scale\":{\"id\":\"7472\"}},\"id\":\"7465\",\"subtype\":\"Figure\",\"type\":\"Plot\"},{\"attributes\":{},\"id\":\"7415\",\"type\":\"BasicTicker\"},{\"attributes\":{\"callback\":null,\"renderers\":[{\"id\":\"7500\"}],\"tags\":[\"hv_created\"],\"tooltips\":[[\"neighborhood\",\"@{neighborhood}\"],[\"sale_price_sqr_foot\",\"@{sale_price_sqr_foot}\"]]},\"id\":\"7464\",\"type\":\"HoverTool\"},{\"attributes\":{\"children\":[{\"id\":\"7465\"}],\"margin\":[0,0,0,0],\"name\":\"Row10094\"},\"id\":\"7461\",\"type\":\"Row\"},{\"attributes\":{\"axis\":{\"id\":\"7410\"},\"grid_line_color\":null,\"ticker\":null},\"id\":\"7413\",\"type\":\"Grid\"},{\"attributes\":{},\"id\":\"7422\",\"type\":\"ResetTool\"},{\"attributes\":{\"data\":{\"neighborhood\":[\"Union Square District\",\"Merced Heights\",\"Miraloma Park\",\"Pacific Heights\",\"Westwood Park\",\"Telegraph Hill\",\"Presidio Heights\",\"Cow Hollow\",\"Potrero Hill\",\"South Beach\"],\"sale_price_sqr_foot\":{\"__ndarray__\":\"JRAUMfI/jEB9IrkvwqaIQFx/3pp8XohAFpsVUHKMhUBs0ERas3iFQL0KhXgNJIVAy835O80ahUANV25bts+EQJrMCuEbsIRAya3y7v5QhEA=\",\"dtype\":\"float64\",\"order\":\"little\",\"shape\":[10]}},\"selected\":{\"id\":\"7495\"},\"selection_policy\":{\"id\":\"7513\"}},\"id\":\"7494\",\"type\":\"ColumnDataSource\"},{\"attributes\":{\"margin\":[0,0,0,0],\"tabs\":[{\"id\":\"7522\"}]},\"id\":\"7392\",\"type\":\"Tabs\"},{\"attributes\":{},\"id\":\"7495\",\"type\":\"Selection\"},{\"attributes\":{\"callback\":null,\"renderers\":[{\"id\":\"7437\"}],\"tags\":[\"hv_created\"],\"tooltips\":[[\"year\",\"@{year}\"],[\"sale_price_sqr_foot\",\"@{sale_price_sqr_foot}\"]]},\"id\":\"7400\",\"type\":\"HoverTool\"},{\"attributes\":{},\"id\":\"7419\",\"type\":\"PanTool\"},{\"attributes\":{\"bottom_units\":\"screen\",\"fill_alpha\":0.5,\"fill_color\":\"lightgrey\",\"left_units\":\"screen\",\"level\":\"overlay\",\"line_alpha\":1.0,\"line_color\":\"black\",\"line_dash\":[4,4],\"line_width\":2,\"right_units\":\"screen\",\"top_units\":\"screen\"},\"id\":\"7423\",\"type\":\"BoxAnnotation\"},{\"attributes\":{},\"id\":\"7441\",\"type\":\"BasicTickFormatter\"},{\"attributes\":{\"active_drag\":\"auto\",\"active_inspect\":\"auto\",\"active_multi\":null,\"active_scroll\":\"auto\",\"active_tap\":\"auto\",\"tools\":[{\"id\":\"7464\"},{\"id\":\"7481\"},{\"id\":\"7482\"},{\"id\":\"7483\"},{\"id\":\"7484\"},{\"id\":\"7485\"}]},\"id\":\"7487\",\"type\":\"Toolbar\"},{\"attributes\":{\"children\":[{\"id\":\"7394\"},{\"id\":\"7395\"},{\"id\":\"7459\"}],\"margin\":[0,0,0,0],\"name\":\"Column10096\"},\"id\":\"7393\",\"type\":\"Column\"},{\"attributes\":{\"bottom_units\":\"screen\",\"fill_alpha\":0.5,\"fill_color\":\"lightgrey\",\"left_units\":\"screen\",\"level\":\"overlay\",\"line_alpha\":1.0,\"line_color\":\"black\",\"line_dash\":[4,4],\"line_width\":2,\"right_units\":\"screen\",\"top_units\":\"screen\"},\"id\":\"7486\",\"type\":\"BoxAnnotation\"},{\"attributes\":{},\"id\":\"7432\",\"type\":\"Selection\"},{\"attributes\":{\"end\":733.2177371101802,\"reset_end\":733.2177371101802,\"reset_start\":306.3294011864627,\"start\":306.3294011864627,\"tags\":[[[\"sale_price_sqr_foot\",\"sale_price_sqr_foot\",null]]]},\"id\":\"7399\",\"type\":\"Range1d\"},{\"attributes\":{},\"id\":\"7502\",\"type\":\"CategoricalTickFormatter\"},{\"attributes\":{},\"id\":\"7485\",\"type\":\"ResetTool\"},{\"attributes\":{\"client_comm_id\":\"0417a958a8994fb586bfdbfc2fcffc3d\",\"comm_id\":\"dff57ad25d024e53a1c9d2f64726fc3f\",\"plot_id\":\"7392\"},\"id\":\"7571\",\"type\":\"panel.models.comm_manager.CommManager\"},{\"attributes\":{\"active_drag\":\"auto\",\"active_inspect\":\"auto\",\"active_multi\":null,\"active_scroll\":\"auto\",\"active_tap\":\"auto\",\"tools\":[{\"id\":\"7400\"},{\"id\":\"7418\"},{\"id\":\"7419\"},{\"id\":\"7420\"},{\"id\":\"7421\"},{\"id\":\"7422\"}]},\"id\":\"7424\",\"type\":\"Toolbar\"},{\"attributes\":{\"source\":{\"id\":\"7431\"}},\"id\":\"7438\",\"type\":\"CDSView\"},{\"attributes\":{\"children\":[{\"id\":\"7401\"}],\"margin\":[0,0,0,0],\"name\":\"Row10010\"},\"id\":\"7397\",\"type\":\"Row\"},{\"attributes\":{},\"id\":\"7420\",\"type\":\"WheelZoomTool\"},{\"attributes\":{\"end\":2016.0,\"reset_end\":2016.0,\"reset_start\":2010.0,\"start\":2010.0,\"tags\":[[[\"year\",\"year\",null]]]},\"id\":\"7398\",\"type\":\"Range1d\"},{\"attributes\":{\"line_color\":\"#1f77b3\",\"line_width\":2,\"x\":{\"field\":\"year\"},\"y\":{\"field\":\"sale_price_sqr_foot\"}},\"id\":\"7434\",\"type\":\"Line\"},{\"attributes\":{},\"id\":\"7439\",\"type\":\"BasicTickFormatter\"},{\"attributes\":{\"overlay\":{\"id\":\"7486\"}},\"id\":\"7484\",\"type\":\"BoxZoomTool\"},{\"attributes\":{},\"id\":\"7450\",\"type\":\"UnionRenderers\"},{\"attributes\":{},\"id\":\"7483\",\"type\":\"WheelZoomTool\"},{\"attributes\":{},\"id\":\"7482\",\"type\":\"PanTool\"},{\"attributes\":{},\"id\":\"7481\",\"type\":\"SaveTool\"},{\"attributes\":{\"line_alpha\":0.2,\"line_color\":\"#1f77b3\",\"line_width\":2,\"x\":{\"field\":\"neighborhood\"},\"y\":{\"field\":\"sale_price_sqr_foot\"}},\"id\":\"7499\",\"type\":\"Line\"},{\"attributes\":{\"margin\":[0,0,0,0],\"name\":\"Column10095\"},\"id\":\"7460\",\"type\":\"Column\"},{\"attributes\":{\"child\":{\"id\":\"7393\"},\"name\":\"Column10096\",\"title\":\"Correlations\"},\"id\":\"7522\",\"type\":\"Panel\"},{\"attributes\":{\"source\":{\"id\":\"7494\"}},\"id\":\"7501\",\"type\":\"CDSView\"},{\"attributes\":{},\"id\":\"7418\",\"type\":\"SaveTool\"}],\"root_ids\":[\"7392\",\"7571\"]},\"title\":\"Bokeh Application\",\"version\":\"2.1.1\"}};\n",
       "  var render_items = [{\"docid\":\"516e651e-4346-490a-ad62-fd8e65c51301\",\"root_ids\":[\"7392\"],\"roots\":{\"7392\":\"e2bcf241-33ea-4d60-9fcd-366ad083d2fb\"}}];\n",
       "  root.Bokeh.embed.embed_items_notebook(docs_json, render_items);\n",
       "  }\n",
       "if (root.Bokeh !== undefined) {\n",
       "    embed_document(root);\n",
       "  } else {\n",
       "    var attempts = 0;\n",
       "    var timer = setInterval(function(root) {\n",
       "      if (root.Bokeh !== undefined) {\n",
       "        clearInterval(timer);\n",
       "        embed_document(root);\n",
       "      } else if (document.readyState == \"complete\") {\n",
       "        attempts++;\n",
       "        if (attempts > 100) {\n",
       "          clearInterval(timer);\n",
       "          console.log(\"Bokeh: ERROR: Unable to run BokehJS code because BokehJS library is missing\");\n",
       "        }\n",
       "      }\n",
       "    }, 10, root)\n",
       "  }\n",
       "})(window);</script>"
      ],
      "text/plain": [
       "Tabs\n",
       "    [0] Column\n",
       "        [0] Markdown(str)\n",
       "        [1] Column\n",
       "            [0] Column()\n",
       "            [1] Row\n",
       "                [0] HoloViews(Curve, name='interactive09930')\n",
       "        [2] Column\n",
       "            [0] Column()\n",
       "            [1] Row\n",
       "                [0] HoloViews(Curve, name='interactive10012')"
      ]
     },
     "execution_count": 147,
     "metadata": {
      "application/vnd.holoviews_exec.v0+json": {
       "id": "7392"
      }
     },
     "output_type": "execute_result"
    }
   ],
   "source": [
    "pop_dashboard.servable()"
   ]
  },
  {
   "cell_type": "code",
   "execution_count": null,
   "metadata": {},
   "outputs": [],
   "source": []
  },
  {
   "cell_type": "code",
   "execution_count": null,
   "metadata": {},
   "outputs": [],
   "source": []
  }
 ],
 "metadata": {
  "file_extension": ".py",
  "kernelspec": {
   "display_name": "Python [conda env:pyvizenv]",
   "language": "python",
   "name": "conda-env-pyvizenv-py"
  },
  "language_info": {
   "codemirror_mode": {
    "name": "ipython",
    "version": 3
   },
   "file_extension": ".py",
   "mimetype": "text/x-python",
   "name": "python",
   "nbconvert_exporter": "python",
   "pygments_lexer": "ipython3",
   "version": "3.7.7"
  },
  "mimetype": "text/x-python",
  "name": "python",
  "npconvert_exporter": "python",
  "pygments_lexer": "ipython3",
  "version": 3
 },
 "nbformat": 4,
 "nbformat_minor": 4
}
